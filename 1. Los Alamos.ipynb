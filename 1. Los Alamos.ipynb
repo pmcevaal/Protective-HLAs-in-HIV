{
 "cells": [
  {
   "cell_type": "markdown",
   "metadata": {},
   "source": [
    "# Retrieval of HIV sequences from Los Alamos database"
   ]
  },
  {
   "cell_type": "markdown",
   "metadata": {},
   "source": [
    "In short: download sequences from Los Alamos and merge into one file per protein"
   ]
  },
  {
   "cell_type": "code",
   "execution_count": 1,
   "metadata": {},
   "outputs": [
    {
     "name": "stdout",
     "output_type": "stream",
     "text": [
      "Stored 'HIVproteome' (list)\n",
      "Stored 'HIV2proteome' (list)\n"
     ]
    }
   ],
   "source": [
    "# Los Alamos output can only be generated per protein (since we require protein sequences, not DNA)\n",
    "# Therefore these lists are needed for later looping through all .fasta files\n",
    "HIVproteome = ['env', 'gag', 'pol', 'tat', 'rev', 'nef', 'vpr', 'vpu', 'vif']\n",
    "%store HIVproteome\n",
    "HIV2proteome = ['env', 'gag', 'pol', 'tat', 'rev', 'nef', 'vpr', 'vpx', 'vif']\n",
    "%store HIV2proteome"
   ]
  },
  {
   "cell_type": "markdown",
   "metadata": {},
   "source": [
    "# HIV1"
   ]
  },
  {
   "cell_type": "markdown",
   "metadata": {},
   "source": [
    "For proteinX in HIVproteome:\n",
    "\n",
    "https://www.hiv.lanl.gov/content/sequence/NEWALIGN/align.html\n",
    "\n",
    "Alignment type: Subtype reference  \n",
    "Organism: HIV-1/SIVcpz  \n",
    "Region: pre-defined proteinX  \n",
    "Subtype: All M group (A-K + Recombinants)  \n",
    "DNA/Protein: Protein  \n",
    "Year: 2010  \n",
    "Format: Fasta"
   ]
  },
  {
   "cell_type": "markdown",
   "metadata": {},
   "source": [
    "Output files:    \"HIV1_REF_2010_proteinX_PRO.fasta\""
   ]
  },
  {
   "cell_type": "code",
   "execution_count": null,
   "metadata": {},
   "outputs": [],
   "source": [
    "%store -r HIVproteome\n",
    "\n",
    "HIV1AKletters = 'ABCDEFGHIJK' # for selecting only A-K strains within M group\n",
    "\n",
    "for protein in HIV1proteome: # loop through LANL download files for each protein\n",
    "    HIV1Reflist = [\"\"] # initiate\n",
    "    with open('/Users/pcevaal/Desktop/TheoreticalBiol/LANL/HIV1_REF_2010_%s_PRO.fasta' %protein,'r') as f:\n",
    "        flist = f.read().split('>') # split file into item for each reference strain \n",
    "        for seq in flist:\n",
    "            unaligned = seq.replace(\"-\",\"\") # aligned sequences contain - character which interferes with peptide generation\n",
    "            lst = unaligned.split('\\n') # split strain name from protein sequence\n",
    "            if lst[0][4] in HIV1AKletters: # select only strains from group HIV1 A-K \n",
    "                HIV1Reflist.append(unaligned) # append unaligned fasta sequence to total list\n",
    "    HIV1AK = \">\".join(HIV1Reflist) # reorganise total list into fasta format, separating all strains with >\n",
    "    with open('/Users/pcevaal/Desktop/TheoreticalBiol/HIV1AK_%s.fasta.txt' %protein,'w') as w:\n",
    "        w.write(HIV1AK) # produce new output file"
   ]
  },
  {
   "cell_type": "markdown",
   "metadata": {},
   "source": [
    "Output files: \"HIV1AK_proteinX_fasta.txt\"\n",
    "\n",
    "Manual changes (sorry for it being manual):  \n",
    " \n",
    "Edit false double reference strains: first of Ref.F2.CM.95.95 becomes Ref.F2.CM.95.9a(5) and first of Ref.H.BE.93.VI9 becomes Ref.H.BE.93.VIa(9)"
   ]
  },
  {
   "cell_type": "markdown",
   "metadata": {},
   "source": [
    "# HIV2"
   ]
  },
  {
   "cell_type": "markdown",
   "metadata": {},
   "source": [
    "For proteinX in HIV2proteome\n",
    "\n",
    "https://www.hiv.lanl.gov/content/sequence/NEWALIGN/align.html\n",
    "\n",
    "Alignment type: Web   \n",
    "Organism: HIV-2/SIVsmm    \n",
    "Region: pre-defined proteinX  \n",
    "Subtype: All M group (A-K + Recombinants)    \n",
    "DNA/Protein: Protein  \n",
    "Year: 2016  \n",
    "Format: Fasta"
   ]
  },
  {
   "cell_type": "markdown",
   "metadata": {},
   "source": [
    "Output files:    \"HIV2_ALL_2016_proteinX_PRO.fasta\""
   ]
  },
  {
   "cell_type": "markdown",
   "metadata": {},
   "source": [
    "Yields 128 sequences (Web: all sequences known). Use Machado 2014 for used reference strains for HIV2A and HIV2B (see below: HIV2Refnames)"
   ]
  },
  {
   "cell_type": "code",
   "execution_count": 25,
   "metadata": {
    "scrolled": false
   },
   "outputs": [],
   "source": [
    "%store -r HIV2proteome\n",
    "\n",
    "HIV2Refnames = ['A.GM.87.D194.J04542','A.GH.x.GH1.M30895','A.CI.88.UC2.U38293','A.DE.x.BEN.M30502','B.CI.88.UC1.L07625','B.GH.86.D205_ALT.X61240','B.CI.x.EHO.U27200','B.JP.01.IMCJ_KR020_1.AB100245','B.CI.x.20_56.AB485670']\n",
    "\n",
    "for protein in HIV2proteome: # highly similar to above code for HIV1\n",
    "    HIV2Reflist = [\"\"]\n",
    "    with open('/Users/pcevaal/Desktop/TheoreticalBiol/LANL/HIV2_ALL_2016_%s_PRO.fasta' %protein,'r') as f:\n",
    "        flist = f.read().split('>')\n",
    "        for seq in flist:\n",
    "            unaligned = seq.replace(\"-\",\"\")\n",
    "            lst = unaligned.split('\\n')\n",
    "            if lst[0] in HIV2Refnames:\n",
    "                HIV2Reflist.append(unaligned) \n",
    "    HIV2AB = \">\".join(HIV2Reflist)\n",
    "    if protein == 'vpx': # HIV2 contains VPX protein instead of HIV1 VPU, but in order to allow automated processing, we combine these\n",
    "        with open('/Users/pcevaal/Desktop/TheoreticalBiol/HIV2_AB_2016_vpu_PRO.fasta','w') as w:\n",
    "            w.write(HIV2AB) # save HIV2 VPX file as HIV2 \"VPU\" \n",
    "    else:  # the other proteins are processed normally\n",
    "        with open('/Users/pcevaal/Desktop/TheoreticalBiol/HIV2_AB_2016_%s_PRO.fasta' %protein,'w') as w:\n",
    "            w.write(HIV2AB)"
   ]
  },
  {
   "cell_type": "markdown",
   "metadata": {},
   "source": [
    "Output files: \"HIV2_AB_2016_proteinX_PRO.fasta\"  \n",
    "\n",
    "Add sequences from HIV2 to files for HIV1, resulting in general HIV files per protein containing reference sequences from different HIV1 and HIV2 groups.  \n",
    "NB!! HIV2 contains VPX protein where HIV1 has VPU. Both belong to accessory proteins however and will thus be combined anyway, therefore, rename to VPU and join fasta files"
   ]
  },
  {
   "cell_type": "code",
   "execution_count": 26,
   "metadata": {},
   "outputs": [],
   "source": [
    "%store -r HIVproteome\n",
    "for protein in HIVproteome: # HIV2 VPX has been renamed VPU, so we can now loop through HIV(1)proteome\n",
    "    HIV12 = \"\" # initiate\n",
    "    with open('/Users/pcevaal/Desktop/TheoreticalBiol/HIV1AK_%s.fasta.txt' %protein, 'r') as f:\n",
    "        data = f.read() # open HIV1 protein sequences\n",
    "        HIV12 = HIV12 + data # append to merged HIV1/2 file\n",
    "    with open('/Users/pcevaal/Desktop/TheoreticalBiol/HIV2_AB_2016_%s_PRO.fasta' %protein,'r') as g:\n",
    "        data = g.read() # open HIV2 protein sequences\n",
    "        HIV12 = HIV12 + \"\\n\" + data # append to merged HIV1/2 file\n",
    "    with open('/Users/pcevaal/Desktop/TheoreticalBiol/HIV12_%s.fasta' %protein, 'w') as w:\n",
    "        w.write(HIV12) # save merged files for netMHCpan input"
   ]
  },
  {
   "cell_type": "markdown",
   "metadata": {},
   "source": [
    "Output files: \"HIV12_proteinX.fasta\""
   ]
  }
 ],
 "metadata": {
  "kernelspec": {
   "display_name": "Python 2",
   "language": "python",
   "name": "python2"
  },
  "language_info": {
   "codemirror_mode": {
    "name": "ipython",
    "version": 2
   },
   "file_extension": ".py",
   "mimetype": "text/x-python",
   "name": "python",
   "nbconvert_exporter": "python",
   "pygments_lexer": "ipython2",
   "version": "2.7.14"
  }
 },
 "nbformat": 4,
 "nbformat_minor": 2
}
