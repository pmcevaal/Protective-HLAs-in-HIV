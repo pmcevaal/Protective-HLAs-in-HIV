{
 "cells": [
  {
   "cell_type": "markdown",
   "metadata": {},
   "source": [
    "### Subfunctions"
   ]
  },
  {
   "cell_type": "code",
   "execution_count": 3,
   "metadata": {},
   "outputs": [],
   "source": [
    "#rearranges a nested dictionary with structure d = {A:{B:value}} to d = {B:{A:value}}\n",
    "def dict_transpose_AB_BA(inputdict): \n",
    "    AB = pd.DataFrame(inputdict)\n",
    "    BA = AB.transpose().to_dict()\n",
    "    return BA"
   ]
  },
  {
   "cell_type": "code",
   "execution_count": 4,
   "metadata": {},
   "outputs": [],
   "source": [
    "#rearranges a nested dictionary with structure d = {A:{B:{C:value}}} to d = {C:{A:{B:value}}}\n",
    "def dict_transpose_ABC_CAB(inputdict): \n",
    "    ACB = {}\n",
    "    for A in inputdict:\n",
    "        CB = dict_transpose_AB_BA(inputdict[A])\n",
    "        ACB[A] = CB\n",
    "    CAB = dict_transpose_AB_BA(ACB)\n",
    "    return CAB"
   ]
  },
  {
   "cell_type": "code",
   "execution_count": 5,
   "metadata": {},
   "outputs": [],
   "source": [
    "#rearranges a nested dictionary with structure d = {A:{B:{C:{D:value}}} to d = {D:{A:{B:{C:value}}}\n",
    "def dict_transpose_ABCD_DABC(inputdict):\n",
    "    ADBC = {}\n",
    "    for A in inputdict:\n",
    "        DBC = dict_transpose_ABC_CAB(inputdict[A])\n",
    "        ADBC[A] = DBC\n",
    "    DABC = dict_transpose_AB_BA(ADBC)\n",
    "    return DABC"
   ]
  },
  {
   "cell_type": "markdown",
   "metadata": {},
   "source": [
    "#### Calculate absolute amount of binding epitopes per HLA allele"
   ]
  },
  {
   "cell_type": "code",
   "execution_count": 9,
   "metadata": {},
   "outputs": [],
   "source": [
    "def group_for_dict_abs(): # prep for dict generation, accessory proteins are grouped into one new 'protein': acc\n",
    "    proteins_grouped = {} #initiate final dict containing 4 proteingroups\n",
    "    acc = pd.DataFrame() #initiate df\n",
    "    for protein in ['env','gag', 'pol', 'tat', 'rev', 'nef', 'vpr', 'vpu', 'vif']:\n",
    "        print protein, #allows to see progress when executing function\n",
    "        output = pd.read_csv('/Users/pcevaal/Outputs/HIV12_%s_output9.xls' %protein, sep = '\\t', engine='python') #open netMHCpan output\n",
    "        if protein in ['tat', 'rev', 'nef', 'vpr', 'vpu', 'vif']: #for these accessory proteins\n",
    "            acc = acc.append(output[1:]) #append df to total acc df\n",
    "        elif protein == 'env': \n",
    "            proteins_grouped['env'] = output #add netMHCpan output to final dictionary under key of according protein\n",
    "        elif protein == 'gag': \n",
    "            proteins_grouped['gag'] = output #idem\n",
    "        elif protein == 'pol': \n",
    "            proteins_grouped['pol'] = output #idem\n",
    "    proteins_grouped['acc'] = acc #add added netMHCpan output for all accessory proteins to final dictionary\n",
    "\n",
    "    return proteins_grouped"
   ]
  },
  {
   "cell_type": "code",
   "execution_count": null,
   "metadata": {},
   "outputs": [],
   "source": [
    "def group_for_dict_abs_coev(): #copy of above function group_for_dict_abs, only imports other netMHCpan data\n",
    "    proteins_grouped = {}\n",
    "    acc = pd.DataFrame()\n",
    "    for protein in ['env','gag', 'pol', 'tat', 'rev', 'nef', 'vpr', 'vpu', 'vif']:\n",
    "        print protein,\n",
    "        output = pd.read_csv('/Users/pcevaal/Outputs/HIV1BC_%s_output9.xls' %protein, sep = '\\t', engine='python')\n",
    "        if protein in ['tat', 'rev', 'nef', 'vpr', 'vpu', 'vif']:\n",
    "            acc = acc.append(output[1:])\n",
    "        elif protein == 'env': \n",
    "            proteins_grouped['env'] = output\n",
    "        elif protein == 'gag': \n",
    "            proteins_grouped['gag'] = output\n",
    "        elif protein == 'pol': \n",
    "            proteins_grouped['pol'] = output\n",
    "    proteins_grouped['acc'] = acc\n",
    "\n",
    "    return proteins_grouped"
   ]
  },
  {
   "cell_type": "code",
   "execution_count": 1,
   "metadata": {},
   "outputs": [],
   "source": [
    "#subfunction within main functions to_dict_abs_ungrouped and to_dict_abs_grouped\n",
    "def count_per_strain(output, cutoff): # output has been defined in main function, cutoff is rankvalue in netMHCpan output\n",
    "    ids = list(set(list(output[\"Unnamed: 1\"][1:]))) #creates set of all strain-IDs tested in netMHCpan\n",
    "    per_strain = [output[output[\"Unnamed: 1\"]==id] for id in ids] # splits netMHCpan output in list of dfs per strain\n",
    "    strains = {}\n",
    "    for strain in per_strain:\n",
    "        ranks = pd.concat([strain.iloc[:, :2], strain.iloc[:, 4::3]], axis=1) #remove columns with 1-log50k and nM values\n",
    "        ranks.iloc[:, 2:62] = ranks.iloc[:, 2:62].apply(pd.to_numeric,  errors='coerce', downcast = 'float') \n",
    "        # do this otherwise ranks aren't recognized and thus not counted properly\n",
    "        xclusion = ranks[~ranks['Unnamed: 0'].str.contains('X')] # exclude all epitopes containing IUPAC aa 'X' \n",
    "        count = xclusion[xclusion <= cutoff].count() #count all binders (i.e. all epitopes <= cutoff) per allele\n",
    "        allele = {}\n",
    "        for x in range(2, len(count)):\n",
    "            allele[count.axes[0][x].encode()] = count[x] # convert count output (df) into dict\n",
    "        strains[ranks.iloc[1,1].encode()] = allele #add to total dict with strain-ID as key and subdict with binders as value\n",
    "    return strains"
   ]
  },
  {
   "cell_type": "code",
   "execution_count": 8,
   "metadata": {},
   "outputs": [],
   "source": [
    "def to_dict_abs_grouped(proteins_grouped, cutoff): #uses output of group_for_dict_abs(_coev) and required cutoff as input for this subfunction\n",
    "    total = {} #initiate dict\n",
    "    for protein in proteins_grouped: #env, pol, gag, acc\n",
    "        print protein, #check progression\n",
    "        output = proteins_grouped[protein] #select netMHCpan output for one of 4 protein(groups) \n",
    "        strains = count_per_strain(output, cutoff) #count no of binding epitopes (rank <= cutoff) per allele per strain\n",
    "        total[protein] = strains #add to final dict\n",
    "    return total"
   ]
  },
  {
   "cell_type": "markdown",
   "metadata": {},
   "source": [
    "# Relative preference"
   ]
  },
  {
   "cell_type": "markdown",
   "metadata": {},
   "source": [
    "#### Calculate relative amount of binding epitopes per protein of total top 100 strongest binding epitopes per HLA allele"
   ]
  },
  {
   "cell_type": "code",
   "execution_count": 10,
   "metadata": {},
   "outputs": [],
   "source": [
    "def group_for_dict_rel(): # prep for dict generation, accessory proteins are grouped into one new 'protein': acc\n",
    "    proteins_grouped_rel = pd.DataFrame() #initiate df\n",
    "    for protein in ['env', 'gag', 'pol', 'tat', 'rev', 'nef', 'vpr', 'vpu', 'vif']: # open all netMHCpan output files\n",
    "        print protein, #check progression\n",
    "        output = pd.read_csv('/Users/pcevaal/Outputs/HIV12_%s_output9.xls' %protein, sep = '\\t', engine='python') #open netMHCpan output\n",
    "        if protein in ['env', 'pol', 'gag']: # add extra column to output df with protein name\n",
    "            output['protein'] = protein\n",
    "        else: # add extra column to output df with name 'accessory'\n",
    "            output['protein'] = 'acc'\n",
    "        proteins_grouped_rel = proteins_grouped_rel.append(output[1:]) # add the 4 resulting dfs to 'total', without labels in 1st row\n",
    "    # 'proteins_grouped' is now one big dataframe with all proteins, annotated to one of 4 groups\n",
    "    return proteins_grouped_rel"
   ]
  },
  {
   "cell_type": "code",
   "execution_count": 9,
   "metadata": {},
   "outputs": [],
   "source": [
    "def to_dict_rel_grouped(proteins_grouped_rel):\n",
    "    ids = list(set(list(proteins_grouped_rel[\"Unnamed: 1\"][1:]))) # generates list of unique strain names\n",
    "    per_strain = [proteins_grouped_rel[proteins_grouped_rel[\"Unnamed: 1\"]==id1] for id1 in ids] # splits 'total' df into list of smaller df per strain\n",
    "    %store -r HLAknown \n",
    "    # list of all HLA alleles with known protection score\n",
    "    relative_preference = {}\n",
    "    for strain in per_strain:\n",
    "        xclusion = strain[~strain['Unnamed: 0'].str.contains('X')] # exclude all epitopes containing IUPAC aa 'X' \n",
    "        HLAs = {}\n",
    "        for HLA in HLAknown: \n",
    "            sort = strain.sort_values(HLA) # sort df to column HLA, containing ranks\n",
    "            top100 = sort[:100] # select top 100 best binding peptides for this HLA allele\n",
    "            if HLA == 'HLA-B18:01': # ambigious literature on this allele, make counts 0 to generate empty bar in graph\n",
    "                counts = {'env':0, 'gag':0, 'pol':0, 'acc':0}\n",
    "            else: # count occurances of each value (proteins) in top100 peptides, and convert output into dictionary\n",
    "                counts = top100['protein'].value_counts().to_dict() \n",
    "            HLAs[HLA] = counts \n",
    "        relative_preference[strain['Unnamed: 1'][1]] = HLAs \n",
    "    # hierarchy of relative_preferance: [strain][allele][protein]\n",
    "\n",
    "    # perform double transposing to reorganise dictionary to new hierarchy\n",
    "    relative_preference_final = dict_transpose_ABC_CAB(dict_transpose_AB_BA(relative_preference))\n",
    "    return relative_preference_final\n",
    "    # hierarchy of relative_preference_final: [protein][allele][strain] = count"
   ]
  },
  {
   "cell_type": "markdown",
   "metadata": {},
   "source": [
    "# Conservation"
   ]
  },
  {
   "cell_type": "markdown",
   "metadata": {},
   "source": [
    "#### Dictionary generation for conservation studies, requires storage of epitope sequences rather than merely counting their number"
   ]
  },
  {
   "cell_type": "code",
   "execution_count": null,
   "metadata": {},
   "outputs": [],
   "source": [
    "def to_dict_peptideseqs_grouped(proteins_grouped, cutoff): #takes output of group_for_dict_abs as input, as well as cutoff for netMHCpan output ranks\n",
    "    %store -r HLAknown\n",
    "    total = {}\n",
    "    for protein in proteins_grouped:\n",
    "        print protein, #check progress\n",
    "        output = proteins_grouped[protein] #select netMHCpan output for one of 4 protein(groups) \n",
    "        ids = sorted(list(set(list(output[\"Unnamed: 1\"][1:])))) #creates set of all strain-IDs tested in netMHCpan\n",
    "        per_strain = [output[output[\"Unnamed: 1\"]==id] for id in ids] # splits netMHCpan output in list of dfs per strain\n",
    "        strains = {}\n",
    "        for strain in per_strain:\n",
    "            ranks = pd.concat([strain.iloc[:, :2], strain.iloc[:, 4::3]], axis=1) #remove columns with 1-log50k and nM values\n",
    "            ranks.iloc[:, 2:62] = ranks.iloc[:, 2:62].apply(pd.to_numeric,  errors='coerce', downcast = 'float') # do this otherwise ranks aren't recognized and thus not counted properly\n",
    "            xclusion = ranks[~ranks['Unnamed: 0'].str.contains('X')] # exclude all epitopes containing IUPAC aa 'X' \n",
    "            alleles = {}\n",
    "            for allele in HLAknown:\n",
    "                binders = list(xclusion[xclusion[allele] <= cutoff]['Unnamed: 0']) #for epitopes with rank <= cutoff, add to epitope sequence to list\n",
    "                alleles[allele] = binders\n",
    "            strains[strain.iloc[1,1]] = alleles #use strain ID as key\n",
    "        total[protein] = strains\n",
    "    return total"
   ]
  },
  {
   "cell_type": "code",
   "execution_count": null,
   "metadata": {},
   "outputs": [],
   "source": [
    "def add_clades(inputdict):\n",
    "    %store -r Reflist\n",
    "    #inputdict hierarchy: [protein][strain][allele]\n",
    "    inputdict_df = pd.DataFrame(inputdict).transpose()\n",
    "    # inputdict_df hierarchy: [strain][protein][allele]\n",
    "    inputdict_ABC_temp = {strain: inputdict_df[strain] for strain in Reflist} # strains from HIV1A-C, HIV2A-B\n",
    "    tempdf = pd.DataFrame(inputdict_ABC_temp).transpose() # each row is one strain, df is sorted \n",
    "    Clades = {}\n",
    "    Clades['HIV2-A'] = tempdf.iloc[:4].to_dict() # first 4 rows are reference strains of clade HIV2-A\n",
    "    Clades['HIV2-B'] = tempdf.iloc[4:9].to_dict() # next 5 are reference strains of HIV2-B\n",
    "    Clades['HIV1-A1'] = tempdf.iloc[9:12].to_dict() # etc\n",
    "    Clades['HIV1-B'] = tempdf.iloc[12:16].to_dict()\n",
    "    Clades['HIV1-C'] = tempdf.iloc[16:20].to_dict()\n",
    "    # Clades: [clades][protein][strain][allele]\n",
    "    # to be: [allele][protein][clade][strain]\n",
    "    fo_grouped_Clade_ABC = dict_transpose_ABCD_DABC(dict_transpose_AB_BA(Clades))\n",
    "\n",
    "    #%store -r HLAobvious\n",
    "    #fo_grouped_Clade_ABC_obv = {HLA: fo_grouped_Clade_ABC[HLA] for HLA in HLAobvious[0]}\n",
    "    # [allele][protein][clade][strain] - count or list of binders\n",
    "    return fo_grouped_Clade_ABC"
   ]
  },
  {
   "cell_type": "code",
   "execution_count": null,
   "metadata": {},
   "outputs": [],
   "source": [
    "def conserved_epitopes_within(inputdict, cutoff): #inputdict is peptideseqs_clades, \n",
    "                        #cutoff is number of other clades in which epitope needs to be present in order to be clasified as conserved\n",
    "    conserved_dict = {}\n",
    "    for allele in inputdict:\n",
    "        #print allele,\n",
    "        proteins = {}\n",
    "        for protein in inputdict[allele]: \n",
    "            clades = {}\n",
    "            for clade in inputdict[allele][protein]:\n",
    "                strains = {}\n",
    "                for strain in inputdict[allele][protein][clade]: # for each strain in each clade, protein, allele:\n",
    "                    epitopes = {}\n",
    "                    for epitope in inputdict[allele][protein][clade][strain]:\n",
    "                        conservation = -1.0 #set initial value at -1, as all epitopes will occur in it's own clade, so conservation score will always increase to 0\n",
    "                        for strain2 in inputdict[allele][protein][clade]: #loop over all strains again \n",
    "                            if epitope in inputdict[allele][protein][clade][strain2]: #if epitope occurs in one of the sets, add 1 to conservation(score)\n",
    "                                conservation += 1.0 \n",
    "                        if conservation >= cutoff: #set cutoff at 1 for minimal conservation, 4 for conservation across all analysed clades\n",
    "                            epitopes[epitope] = conservation\n",
    "                    strains[strain] = epitopes #{strain:{epitope:conservation score}}\n",
    "                clades[clade] = strains \n",
    "            proteins[protein] = clades\n",
    "        conserved_dict[allele] = proteins\n",
    "    return conserved_dict"
   ]
  },
  {
   "cell_type": "code",
   "execution_count": null,
   "metadata": {},
   "outputs": [],
   "source": [
    "def conserved_epitopes_all(inputdict, cutoff): #inputdict is peptideseqs, \n",
    "                        #cutoff is number of other clades in which epitope needs to be present in order to be clasified as conserved\n",
    "    conserved_dict = {}\n",
    "    for allele in inputdict:\n",
    "        #print allele,\n",
    "        proteins = {}\n",
    "        for protein in inputdict[allele]: \n",
    "            strains = {}\n",
    "            #epitopelist = []\n",
    "            for strain in inputdict[allele][protein]: # for each strain in each protein, allele:\n",
    "                epitopes = {}\n",
    "                for epitope in inputdict[allele][protein][strain]:\n",
    "                    conservation = -1.0\n",
    "                    for strain2 in inputdict[allele][protein]:\n",
    "                        if epitope in inputdict[allele][protein][strain2]: #if epitope occurs in one of the sets, add 1 to conservation(score)\n",
    "                            conservation += 1.0 #will end up range 0:?\n",
    "                    if conservation >= cutoff: #set cutoff at 1 for minimal conservation, 4 for conservation across all analysed clades\n",
    "                        epitopes[epitope] = conservation\n",
    "                strains[strain] = epitopes\n",
    "            proteins[protein] = strains\n",
    "        conserved_dict[allele] = proteins\n",
    "    return conserved_dict"
   ]
  }
 ],
 "metadata": {
  "kernelspec": {
   "display_name": "Python 2",
   "language": "python",
   "name": "python2"
  },
  "language_info": {
   "codemirror_mode": {
    "name": "ipython",
    "version": 2
   },
   "file_extension": ".py",
   "mimetype": "text/x-python",
   "name": "python",
   "nbconvert_exporter": "python",
   "pygments_lexer": "ipython2",
   "version": "2.7.14"
  }
 },
 "nbformat": 4,
 "nbformat_minor": 2
}
