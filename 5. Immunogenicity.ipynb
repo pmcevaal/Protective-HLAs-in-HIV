{
 "cells": [
  {
   "cell_type": "markdown",
   "metadata": {},
   "source": [
    "# Immunogenicity"
   ]
  },
  {
   "cell_type": "markdown",
   "metadata": {},
   "source": [
    "IEDB.org "
   ]
  },
  {
   "cell_type": "code",
   "execution_count": 1,
   "metadata": {},
   "outputs": [],
   "source": [
    "# many functions have been defined but written down in different ipynb files, for clarity. Import those (%run)\n",
    "%run Functions.ipynb\n",
    "%run Functions_visualization.ipynb\n",
    "import pandas as pd\n",
    "import numpy as np\n",
    "import matplotlib.pyplot as plt\n",
    "from scipy import stats"
   ]
  },
  {
   "cell_type": "code",
   "execution_count": 2,
   "metadata": {},
   "outputs": [],
   "source": [
    "%store -r peptideseqs_clades\n",
    "# peptideseqs_clades dictionary will form the basis of this analysis, as we again need the epitope sequences in order\n",
    "# to run them through the immunogenicity predictor"
   ]
  },
  {
   "cell_type": "code",
   "execution_count": 3,
   "metadata": {},
   "outputs": [],
   "source": [
    "# 3-step functions to generate complete list of all (unique) epitopes that are presented by all alleles analysed\n",
    "def per_clade(allele, protein, clade):\n",
    "    nested = [peptideseqs_clades[allele][protein][clade][strain] \n",
    "             for strain in peptideseqs_clades[allele][protein][clade]]\n",
    "    return [item for sublist in nested for item in sublist]\n",
    "\n",
    "def per_protein(allele, protein):\n",
    "    nested = [per_clade(allele, protein, clade) for clade in peptideseqs_clades[allele][protein]]\n",
    "    return [item for sublist in nested for item in sublist]\n",
    "\n",
    "def per_allele(allele):\n",
    "    nested = [per_protein(allele, protein) for protein in peptideseqs_clades[allele]]\n",
    "    return [item for sublist in nested for item in sublist]\n",
    "\n",
    "totalnested = [per_allele(allele) for allele in peptideseqs_clades]\n",
    "total = list(set([item for sublist in totalnested for item in sublist]))"
   ]
  },
  {
   "cell_type": "code",
   "execution_count": 22,
   "metadata": {},
   "outputs": [],
   "source": [
    "# this list of epitopes is then formatted into txt file with each epitope on its own line, to allow input in IEDB.org\n",
    "with open('/Users/pcevaal/Desktop/TheoreticalBiol/Peptides-xx.txt', 'w') as f:\n",
    "    for peptide in total:\n",
    "        f.write(peptide + '\\n')"
   ]
  },
  {
   "cell_type": "markdown",
   "metadata": {},
   "source": [
    "### Run IEDB immunogenicity prediction for all peptides\n",
    "Those containing 'X' have been excluded in earlier stage (generation of peptideseqs_clades dictionary)\n",
    "\n",
    "Input file: Peptides-xx.txt  \n",
    "Output file: Result_peptides-xx.csv"
   ]
  },
  {
   "cell_type": "code",
   "execution_count": 7,
   "metadata": {},
   "outputs": [],
   "source": [
    "immunogenicity = pd.read_csv('/Users/pcevaal/Desktop/TheoreticalBiol/Result_peptides-xx.csv') # open IEDB output"
   ]
  },
  {
   "cell_type": "code",
   "execution_count": 8,
   "metadata": {},
   "outputs": [],
   "source": [
    "# transform IEDB output dataframe into dictionary for easier further use\n",
    "imgen_dict = {} # initiate\n",
    "for y in range(len(immunogenicity)): # for all alleles\n",
    "    imgen_dict[immunogenicity.loc[y,'peptide']] = immunogenicity.loc[y,'score'] # make dict entry with peptide seq as key, immunogenicity score as value"
   ]
  },
  {
   "cell_type": "code",
   "execution_count": 10,
   "metadata": {},
   "outputs": [],
   "source": [
    "# aim to generate dictionary containing the immunogenicity for each presented epitope. Use dict structure as in \n",
    "# epitope conservation studies, but amend values from conservation score to immunogenicity score\n",
    "%store -r peptideseqs\n",
    "immunogenicity_epis_all = conserved_epitopes_all(peptideseqs, 0.0) # generate new copy of conserved epitopes dict\n",
    "for allele in immunogenicity_epis_all:\n",
    "    for protein in immunogenicity_epis_all[allele]:\n",
    "        for strain in immunogenicity_epis_all[allele][protein]:\n",
    "            for epitope in immunogenicity_epis_all[allele][protein][strain]:\n",
    "                    immunogenicity_epis_all[allele][protein][strain][epitope] = imgen_dict[epitope] # change value to immunogenity score"
   ]
  },
  {
   "cell_type": "markdown",
   "metadata": {},
   "source": [
    "#### Averaging stepwise;  av of epitopes within one strain, av of all strains per protein, av of all proteins per allele"
   ]
  },
  {
   "cell_type": "code",
   "execution_count": 11,
   "metadata": {},
   "outputs": [],
   "source": [
    "imgen_per_allele = {} # initiate new dict that will give average immunogenicity score per allele\n",
    "for allele in immunogenicity_epis_all:\n",
    "    proteins = []\n",
    "    for protein in immunogenicity_epis_all[allele]:\n",
    "        strains = []\n",
    "        for strain in immunogenicity_epis_all[allele][protein]:\n",
    "            list1 = [immunogenicity_epis_all[allele][protein][strain][epitope] # make list of all immunogenicity scores\n",
    "                                 for epitope in immunogenicity_epis_all[allele][protein][strain]] # of all epitopes\n",
    "            if len(list1) != 0: # HLA-B18:01 does not present any epitopes from Ref.A1.RW so would yield NaN\n",
    "                strainmean = np.mean(list1) # take mean of immunogenicity score of presented epitopes from this strain\n",
    "                strains.append(strainmean) # add mean of strain to list\n",
    "        proteinmean = np.mean(strains) # average from all strains\n",
    "        proteins.append(proteinmean) # add mean of protein to list\n",
    "    allelemean = np.mean(proteins) # average from all proteins\n",
    "    imgen_per_allele[allele] = allelemean # assign mean of allele to final dictionary"
   ]
  },
  {
   "cell_type": "code",
   "execution_count": 13,
   "metadata": {},
   "outputs": [
    {
     "name": "stdout",
     "output_type": "stream",
     "text": [
      "MannwhitneyuResult(statistic=49.0, pvalue=0.10136508532326127)\n"
     ]
    },
    {
     "data": {
      "image/png": "[encoded data removed]",
      "text/plain": [
       "<matplotlib.figure.Figure at 0x109d790d0>"
      ]
     },
     "metadata": {},
     "output_type": "display_data"
    }
   ],
   "source": [
    "# prepare imgen_per_allele dataframe into format that can be used for plotting, \n",
    "# and perform MannWhitneyU test (unpaired, non-parametrical, one-sided)\n",
    "df = scatterplot_matrixprep(imgen_per_allele, 'immunogenicity')\n",
    "#print df\n",
    "scatter_dot_plot_mannwhitney(df, 'immunogenicity', 'immunogenicity_score', -0.03, 0.1)"
   ]
  },
  {
   "cell_type": "markdown",
   "metadata": {},
   "source": [
    "#### Averaging in one go; make set of all epitopes presented by one allele, average that"
   ]
  },
  {
   "cell_type": "markdown",
   "metadata": {},
   "source": [
    "Difference with above is that, in above case, epitopes that are present in multiple strains (which is very realistic) will be taken into account multiple times. This basically scews the result (immunogenicity score) towards the values belonging to more conserved peptides. One could therefore argue that above situation is a combined analysis of conservation and immunogenicity, and therefore not the best approach.   \n",
    "Below situation firstly makes a list for each allele of all epitopes presented of all strains, proteins. It then makes a unique set of these epitopes, i.e. taking out duplicates ('conserved epitopes'), and only counts each unique epitope once when calculating the average immunogenicity score for the group of epitopes presented by that allele"
   ]
  },
  {
   "cell_type": "code",
   "execution_count": 14,
   "metadata": {},
   "outputs": [],
   "source": [
    "# 2-step functions to generate complete list of all (unique) epitopes that are presented by all alleles analysed\n",
    "def per_protein2(allele, protein):\n",
    "    nested = [immunogenicity_epis_all[allele][protein][strain] for strain in immunogenicity_epis_all[allele][protein]]\n",
    "    return [item for sublist in nested for item in sublist]\n",
    "\n",
    "def per_allele2(allele):\n",
    "    nested = [per_protein2(allele, protein) for protein in immunogenicity_epis_all[allele]]\n",
    "    return list(set([item for sublist in nested for item in sublist]))\n",
    "\n",
    "# for each allele, generate list of unique peptides presented\n",
    "totalnested = {allele:per_allele2(allele) for allele in immunogenicity_epis_all}\n",
    "imgen_per_allele_set = {} # initiate\n",
    "for allele in totalnested:\n",
    "    imgenscore_list = [] # initiate\n",
    "    for epitope in totalnested[allele]: # for each epitope in unique list of presented peptides\n",
    "        imgenscore_list.append(imgen_dict[epitope]) # add immunogenicity score to list\n",
    "    allelemean = np.mean(imgenscore_list) # take mean of these immunogenicity scores; each conserved epitope is only taken into account once in averaging\n",
    "    imgen_per_allele_set[allele] = allelemean  # assign to allele key in dictionary"
   ]
  },
  {
   "cell_type": "code",
   "execution_count": 17,
   "metadata": {},
   "outputs": [
    {
     "name": "stdout",
     "output_type": "stream",
     "text": [
      "MannwhitneyuResult(statistic=67.0, pvalue=0.39945333482163486)\n"
     ]
    },
    {
     "data": {
      "image/png": "[encoded data removed]",
      "text/plain": [
       "<matplotlib.figure.Figure at 0x10a46ba50>"
      ]
     },
     "metadata": {},
     "output_type": "display_data"
    }
   ],
   "source": [
    "df_set = scatterplot_matrixprep(imgen_per_allele_set, 'immunogenicity')\n",
    "#print df_set\n",
    "scatter_dot_plot_mannwhitney(df_set, 'immunogenicity', 'immunogenicity_score', -0.03, 0.1)"
   ]
  }
 ],
 "metadata": {
  "kernelspec": {
   "display_name": "Python 2",
   "language": "python",
   "name": "python2"
  },
  "language_info": {
   "codemirror_mode": {
    "name": "ipython",
    "version": 2
   },
   "file_extension": ".py",
   "mimetype": "text/x-python",
   "name": "python",
   "nbconvert_exporter": "python",
   "pygments_lexer": "ipython2",
   "version": "2.7.14"
  }
 },
 "nbformat": 4,
 "nbformat_minor": 2
}
