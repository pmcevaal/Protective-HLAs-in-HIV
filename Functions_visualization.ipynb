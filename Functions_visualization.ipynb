{
 "cells": [
  {
   "cell_type": "code",
   "execution_count": null,
   "metadata": {},
   "outputs": [],
   "source": [
    "# reorganise to-be plotted dictionary into dataframe that can be inputted into scatter_dot_plot function below\n",
    "def scatterplot_matrixprep(inputdict, valuecolumnname): # inputdictionary should have structure dict[allele] = value\n",
    "    %store -r protection_score\n",
    "    df = pd.DataFrame(columns = ['allele', 'protection', valuecolumnname]) # initiate df\n",
    "    for allele in inputdict: \n",
    "        if protection_score[allele] != 'unknown' and protection_score[allele] != 0: # select HLA alleles with known score\n",
    "            if protection_score[allele] < 0: # group these alleles in two groups, P/D\n",
    "                protection = 'Detrimental'\n",
    "            else:\n",
    "                protection = 'Protective'\n",
    "            value = inputdict[allele] # obtain to be plotted y value\n",
    "            row = [allele, protection, value] # make list containing allele name, protection group (P/D) and y value\n",
    "            df = df.append(pd.DataFrame([row], columns = ['allele', 'protection', valuecolumnname])) # append row for each allele to df\n",
    "    return df"
   ]
  },
  {
   "cell_type": "code",
   "execution_count": null,
   "metadata": {},
   "outputs": [],
   "source": [
    "def scatter_dot_plot_mannwhitney(df, valuecolumn, ylabel, ymin, ymax): # takes output of scatterplot_matrixprep, name for y values, y axis label name and min/max of y axis\n",
    "    Detrimental = list(df[df['protection']=='Detrimental'][valuecolumn]) # split input df into two groups\n",
    "    Protective = list(df[df['protection']=='Protective'][valuecolumn])\n",
    "    print stats.mannwhitneyu(Detrimental, Protective, alternative='less') # perform MannWhitney U test, one-sided\n",
    "\n",
    "    # Plot graph\n",
    "    data = [Detrimental, Protective]\n",
    "    fig = plt.figure(1, figsize=(6,4))\n",
    "    ax = fig.add_subplot(111)\n",
    "    bp = ax.boxplot(data, whis=6) # original graph is boxplot to show median. Outliers from 6 (random high number) xIQR to prevent showing outliers\n",
    "    for i,d in enumerate(['Detrimental', 'Protective']): # add individual values for both P and D\n",
    "        y = df[df['protection'] == d][valuecolumn] # d = [D, P]\n",
    "        x = np.random.normal(i+1, 0, len(y)) # i = [0, 1]\n",
    "        plt.plot(x, y, mec = 'none', mfc = 'r', ms=4, marker=\"o\", linestyle=\"None\", alpha=0.8)\n",
    "\n",
    "    plt.setp(bp['whiskers'], color='w') # change colour of boxplot to white to only show median\n",
    "    plt.setp(bp['caps'], color='w') # ^\n",
    "    plt.setp(bp['boxes'], color='w') # ^\n",
    "    plt.setp(bp['medians'], color='k') # only show median, line in black\n",
    "    plt.xticks([1, 2], ['Detrimental', 'Protective'])\n",
    "    plt.ylim([ymin,ymax])\n",
    "    plt.ylabel(ylabel)\n",
    "    plt.show()"
   ]
  },
  {
   "cell_type": "code",
   "execution_count": null,
   "metadata": {},
   "outputs": [],
   "source": [
    "def rel_bar_chart(relative_preference_final): # bar chart for relative binding preferance of HLA alleles for HIV proteins\n",
    "    ind = range(len(HLAknown)) #initiate right lengt of x-axis\n",
    "    width = 0.8 #width of bars\n",
    "\n",
    "    #for each protein, calculate mean amount of epitopes (and stdev) of all strains, for each allele\n",
    "    env = [np.mean([relative_preference_final['env'][HLA].values()]) for HLA in HLAknown]\n",
    "    enverr = [np.std([relative_preference_final['env'][HLA].values()]) for HLA in HLAknown]\n",
    "    gag = [np.mean([relative_preference_final['gag'][HLA].values()]) for HLA in HLAknown]\n",
    "    gagerr = [np.std([relative_preference_final['gag'][HLA].values()]) for HLA in HLAknown]\n",
    "    pol = [np.mean([relative_preference_final['pol'][HLA].values()]) for HLA in HLAknown]\n",
    "    polerr = [np.std([relative_preference_final['pol'][HLA].values()]) for HLA in HLAknown]\n",
    "    acc = [np.mean([relative_preference_final['acc'][HLA].values()]) for HLA in HLAknown]\n",
    "    accerr = [np.std([relative_preference_final['acc'][HLA].values()]) for HLA in HLAknown]\n",
    "\n",
    "    # HLA-B18:05 has ambigious protection, so leave out this allele and corresponding x-label \n",
    "    xlabels = HLAknown[:16] + [\" \"] + HLAknown[17:] \n",
    "    \n",
    "    #plot 4 plots (in same figure), bottom argument specifies the bottom coordinate of the 2nd and following bars of stacked bar chart\n",
    "    p1 = plt.bar(ind, gag, width, color='skyblue', yerr=gagerr)\n",
    "    p2 = plt.bar(ind, pol, width, bottom=sumzip(gag), color='yellowgreen', yerr=polerr)\n",
    "    p3 = plt.bar(ind, acc, width, bottom=sumzip(gag, pol), color='gold', yerr=accerr)\n",
    "    p4 = plt.bar(ind, env, width, bottom=sumzip(gag, pol, acc), color='lightcoral', yerr=enverr)\n",
    "    plt.xticks(ind, (xlabels), rotation=90) # define position of x ticks, labels, and vertical rotation\n",
    "    plt.ylim([0,100])\n",
    "    add_legend_4()\n",
    "    plt.ylabel(\"no. of binders\")\n",
    "    plt.title(\"Relative binding preference per HLA allele\")\n",
    "    plt.show()"
   ]
  },
  {
   "cell_type": "code",
   "execution_count": null,
   "metadata": {},
   "outputs": [],
   "source": [
    "# below graph will separate the no. of presented peptides for the various clades, therefore, we make a separate graph for each allele\n",
    "def bar_chart_clades(allele, fo_grouped_Clade_ABC_obv): # bar chart per HIV clade of no. of presented peptides per protein\n",
    "    xlabels = fo_grouped_Clade_ABC_obv[allele]['env'].keys() # list of 5 clade names\n",
    "    xlabels.sort() # sort in order HIV1-A1 HIV1-B HIV1-C HIV2-A HIV2-B\n",
    "    ind = range(len(fo_grouped_Clade_ABC_obv[allele]['env'])) # define length of x axis\n",
    "    width = 0.5 # width of bars\n",
    "    \n",
    "    # for each protein, and clade, take values (no. of peptides presented from each strain) and average or take std. dev\n",
    "    # create list of length 5, containing values for each of the 5 clades\n",
    "    env = [np.mean(fo_grouped_Clade_ABC_obv[allele]['env'][clade].values()) for clade in xlabels]\n",
    "    enverr = [np.std(fo_grouped_Clade_ABC_obv[allele]['env'][clade].values()) for clade in xlabels]\n",
    "    gag = [np.mean(fo_grouped_Clade_ABC_obv[allele]['gag'][clade].values()) for clade in xlabels]\n",
    "    gagerr = [np.std(fo_grouped_Clade_ABC_obv[allele]['gag'][clade].values()) for clade in xlabels]\n",
    "    pol = [np.mean(fo_grouped_Clade_ABC_obv[allele]['pol'][clade].values()) for clade in xlabels]\n",
    "    polerr = [np.std(fo_grouped_Clade_ABC_obv[allele]['pol'][clade].values()) for clade in xlabels]\n",
    "    acc = [np.mean(fo_grouped_Clade_ABC_obv[allele]['acc'][clade].values()) for clade in xlabels]\n",
    "    accerr = [np.std(fo_grouped_Clade_ABC_obv[allele]['acc'][clade].values()) for clade in xlabels]\n",
    "    \n",
    "    # plot bar for each of the 4 proteins with corresponding error bars, define bottom of second protein as being \n",
    "    # top of first protein (sumzip function, see below) to generate stacked bar chart\n",
    "    p1 = plt.bar(ind, gag, width, color='skyblue', yerr=gagerr)\n",
    "    p2 = plt.bar(ind, pol, width, bottom=sumzip(gag), color='yellowgreen', yerr=polerr)\n",
    "    p3 = plt.bar(ind, acc, width, bottom=sumzip(gag, pol), color='gold', yerr=accerr)\n",
    "    p4 = plt.bar(ind, env, width, bottom=sumzip(gag, pol, acc), color='lightcoral', yerr=enverr)\n",
    "    plt.xticks(ind, (xlabels), rotation=90) # define position of x ticks, labels, and vertical rotation\n",
    "    plt.title(allele)\n",
    "    \n",
    "    add_legend_4() # add legend with color code of the 4 proteins, see below for function\n",
    "    plt.ylabel('no. of binders')\n",
    "    plt.ylim([0,100])\n",
    "    plt.show()"
   ]
  },
  {
   "cell_type": "code",
   "execution_count": null,
   "metadata": {},
   "outputs": [],
   "source": [
    "def sumzip(*items): # takes any number of items as input; input is the y-values of all below stacks of the bar chart \n",
    "    return [sum(values) for values in zip(*items)] # add up y values to determine the bottom y-value of the next protein section"
   ]
  },
  {
   "cell_type": "code",
   "execution_count": null,
   "metadata": {},
   "outputs": [],
   "source": [
    "def add_legend_4(): # make legend with 4 proteingroups, colorcoded to match bar_chart_clades\n",
    "    import matplotlib.patches as mpatches\n",
    "    Acc = mpatches.Patch(color='gold', label='Acc')\n",
    "    Pol = mpatches.Patch(color='yellowgreen', label='Pol')\n",
    "    Gag = mpatches.Patch(color='skyblue', label='Gag')\n",
    "    Env = mpatches.Patch(color='lightcoral', label='Env')\n",
    "    plt.legend(handles=[Env, Acc, Pol, Gag], loc=(1.04,0.71))"
   ]
  },
  {
   "cell_type": "code",
   "execution_count": null,
   "metadata": {},
   "outputs": [],
   "source": [
    "def bar_chart_coev(inputdict, allele): # takes inputdictionary of structure dict[population][clade] = no. of presented peptides, and allele (HLA-A/ HLA-B) if inputdictionary is a subselection\n",
    "    index = np.arange(len(inputdict)) # indicate position of x ticks\n",
    "    bar_width = 0.35\n",
    "    pops = inputdict.keys() # list of populations\n",
    "\n",
    "    # generate list with means or std.devs of the no. of presented peptides by the enriched alleles in the three populations\n",
    "    means_HIV1B = [np.mean(inputdict[pop]['HIV1-B'].values()) for pop in pops] \n",
    "    std_HIV1B = [np.std(inputdict[pop]['HIV1-B'].values()) for pop in pops]\n",
    "    means_HIV1C = [np.mean(inputdict[pop]['HIV1-C'].values()) for pop in pops]\n",
    "    std_HIV1C = [np.std(inputdict[pop]['HIV1-C'].values()) for pop in pops]\n",
    "\n",
    "    # plot two bars next to one another, i.e. x-position of second plot needs to be adjusted (index + bar_width)\n",
    "    p1 = plt.bar(index, means_HIV1B, bar_width,color='teal',yerr=std_HIV1B,label='HIV1-B')\n",
    "    p2 = plt.bar(index + bar_width, means_HIV1C, bar_width,color='mediumturquoise',yerr=std_HIV1C,label='HIV1-C')\n",
    "\n",
    "    plt.xlabel('Population')\n",
    "    plt.ylabel('No. of binders (std)')\n",
    "    plt.title('Coevolution ' + allele) # if inputdictionary was subselection, this will be mentioned in title \n",
    "    plt.xticks(index + bar_width / 2, pops) # position x-labels in middle of two bars\n",
    "    plt.legend(loc=(1.04,0.85))\n",
    "\n",
    "    plt.show()"
   ]
  }
 ],
 "metadata": {
  "kernelspec": {
   "display_name": "Python 2",
   "language": "python",
   "name": "python2"
  },
  "language_info": {
   "codemirror_mode": {
    "name": "ipython",
    "version": 2
   },
   "file_extension": ".py",
   "mimetype": "text/x-python",
   "name": "python",
   "nbconvert_exporter": "python",
   "pygments_lexer": "ipython2",
   "version": "2.7.14"
  }
 },
 "nbformat": 4,
 "nbformat_minor": 2
}
