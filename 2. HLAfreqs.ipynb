{
 "cells": [
  {
   "cell_type": "markdown",
   "metadata": {},
   "source": [
    "# Importing HLA frequency files from NMDP.org to obtain most frequent alleles"
   ]
  },
  {
   "cell_type": "code",
   "execution_count": null,
   "metadata": {},
   "outputs": [],
   "source": [
    "import pandas as pd\n",
    "import numpy as np"
   ]
  },
  {
   "cell_type": "code",
   "execution_count": null,
   "metadata": {},
   "outputs": [],
   "source": [
    "HLAlist = [] # initiate\n",
    "for x in 'ABC': # HLA frequency files from NMDP.org are organised per HLA allele; HLA-A, HLA-B, HLA-C\n",
    "    df = pd.read_excel(\"/Users/pcevaal/Desktop/TheoreticalBiol/%s.xlsx\" %x) # open corresponding NMDP.org file\n",
    "    df_sort = df.sort_values(['CAU_rank'], ascending = True) # For general studies, select Caucasian population\n",
    "    top20 = df_sort.head(20) # select top20 most frequent alleles in this population\n",
    "    HLAs = top20[x] # generate list of alleles (are in column named A/B/C, depending on which file is opened)\n",
    "    list = [HLA.encode() for HLA in HLAs] # transform from unicode\n",
    "    HLAlist += list # merge most frequent HLA-A + HLA-B + HLA-C alleles into one list\n",
    "sorted(HLAlist) # sort"
   ]
  },
  {
   "cell_type": "markdown",
   "metadata": {},
   "source": [
    "Replace with below section to change human population to base most frequent alleles on + to change the top .. of alleles to be taken into further analysis. Currently set to Caucasian population and top20 alleles per HLA gene (ABC). "
   ]
  },
  {
   "cell_type": "code",
   "execution_count": null,
   "metadata": {},
   "outputs": [],
   "source": [
    "df.sort_values(['%s_rank' %raw_input(\"population:\")], ascending = False) # if we would want to base our analysis on the most frequent alleles in another population. Not used in this project\n",
    "top20 = df.head(int(raw_input(\"no of rows:\"))) # if we were to use a different number of most frequent alleles. Not used in this project"
   ]
  },
  {
   "cell_type": "markdown",
   "metadata": {},
   "source": [
    "Rewrite HLAlist into format that can be used as netMHCpan input file ('HLAinput.txt')"
   ]
  },
  {
   "cell_type": "code",
   "execution_count": 2,
   "metadata": {},
   "outputs": [],
   "source": [
    "MHC = '' # initiate\n",
    "for x in HLAlist: # for each allele, currently in format eg A*24:03g\n",
    "    MHC += 'HLA-' + x[0] + x[2:7] + ','\n",
    "    # writes in correct format, removes 'g' annotation at the end\n",
    "with open('HLAinput.txt', 'w') as x:\n",
    "            x.write(MHC[:-1]) # delete final ','"
   ]
  },
  {
   "cell_type": "markdown",
   "metadata": {},
   "source": [
    "# Collect additional informaton on HLA alleles for further analysis"
   ]
  },
  {
   "cell_type": "markdown",
   "metadata": {},
   "source": [
    "As for now chosen to use top20 most frequent alleles per type (A/B/C) for input in netMHCpan. See above on how to change.  \n",
    "For graphical analysis however easier to quickly leave out some alleles, therefore store frequency rank within final_output library. "
   ]
  },
  {
   "cell_type": "code",
   "execution_count": 70,
   "metadata": {},
   "outputs": [
    {
     "name": "stdout",
     "output_type": "stream",
     "text": [
      "Stored 'HLAranks' (dict)\n"
     ]
    }
   ],
   "source": [
    "HLAlist = [] # initiate\n",
    "HLAranks = {}\n",
    "iter = 0\n",
    "for x in 'ABC': \n",
    "    df = pd.read_excel(\"/Users/pcevaal/Desktop/TheoreticalBiol/%s.xlsx\" %x) # open corresponding NMDP.org file\n",
    "    df_sort = df.sort_values(['CAU_rank'], ascending = True) # For general studies, select Caucasian population\n",
    "    top20 = df_sort.head(20) # select top20 most frequent alleles in this population\n",
    "    HLAs = top20[x] # generate list of alleles (are in column named A/B/C, depending on which file is opened)\n",
    "    iter = 1 # initiate counter that will indicate position of allele in top20\n",
    "    for HLA in HLAs:\n",
    "        MHC = 'HLA-' + HLA[0] + HLA[2:7] # write in correct format\n",
    "        HLAranks[MHC.encode()] = iter # generate dict item with allele name and corresponding frequency position\n",
    "        #print iter, HLA\n",
    "        iter += 1\n",
    "%store HLAranks"
   ]
  },
  {
   "cell_type": "markdown",
   "metadata": {},
   "source": [
    "Secondly, we wish to analyse results in correlation to known protective or destructive characteristics of HLA alleles. Therefore, quantify / assign protection score based on most recent literature paper on this topic (see below)"
   ]
  },
  {
   "cell_type": "markdown",
   "metadata": {},
   "source": [
    "source info on HLA supertypes: http://www.ufrgs.br/imunovet/molecular_immunology/hla.html  \n",
    "source literature: Sundaramurthi 2017"
   ]
  },
  {
   "cell_type": "code",
   "execution_count": null,
   "metadata": {},
   "outputs": [],
   "source": [
    "# input information from literature on protective HLA serotypes and/or genotypes\n",
    "literature_protective = ['HLA-A01', 'HLA-A02:01', 'HLA-A68:02', 'HLA-A02:02', 'HLA-A02:05', 'HLA-A02:14', 'HLA-A11', 'HLA-A11:01', 'HLA-A25', 'HLA-A32', 'HLA-A74:01', 'HLA-B13:02', 'HLA-C08:02', 'HLA-B18', 'HLA-B27', 'HLA-B27:05', 'HLA-B51', 'HLA-B52', 'HLA-B57', 'HLA-B57:01', 'HLA-B57:03','HLA-B15', 'HLA-C06:02', 'HLA-C07:01']\n",
    "print literature_protective"
   ]
  },
  {
   "cell_type": "code",
   "execution_count": null,
   "metadata": {},
   "outputs": [],
   "source": [
    "# input information from literature on detrimental HLA serotypes and/or genotypes\n",
    "literature_detrimental = ['HLA-A03', 'HLA-A19', 'HLA-A23', 'HLA-23:01', 'HLA-A24', 'HLA-B07', 'HLA-B07:02', 'HLA-B18', 'HLA-B35', 'HLA-B35:03', 'HLA-B35:02', 'HLA-B35:03', 'HLA-B35:04', 'HLA-B53:01', 'HLA-B37', 'HLA-B40', 'HLA-B40:06', 'HLA-B42:01', 'HLA-B44', 'HLA-B49', 'HLA-B53', 'HLA-B53:01', 'HLA-C04', 'HLA-C07']\n",
    "print literature_detrimental"
   ]
  },
  {
   "cell_type": "markdown",
   "metadata": {},
   "source": [
    "Strategy:  \n",
    "If allele serotype is not found in either literature_protective or literature_destructive, assign 'unknown'  \n",
    "If allele serotype is found in both literature_protective and literature_destructive, assign 0  \n",
    "If allele genotype if found in literature_protective, assign +10  \n",
    "If allele genotype if found in literature_destructive, assign -10  \n",
    "If allele genotype is not found in literature_protective, but allele serotype is, assign +5  \n",
    "If allele genotype is not found in literature_destructive, but allele serotype is, assign -5"
   ]
  },
  {
   "cell_type": "code",
   "execution_count": 113,
   "metadata": {
    "scrolled": true
   },
   "outputs": [
    {
     "name": "stdout",
     "output_type": "stream",
     "text": [
      "             0        1\n",
      "28  HLA-A01:01        5\n",
      "38  HLA-A02:01  unknown\n",
      "36  HLA-A02:05  unknown\n",
      "49  HLA-A03:01       -5\n",
      "9   HLA-A11:01       10\n",
      "11  HLA-A23:01       -5\n",
      "43  HLA-A24:02       -5\n",
      "10  HLA-A25:01        5\n",
      "23  HLA-A26:01  unknown\n",
      "6   HLA-A29:01  unknown\n",
      "50  HLA-A29:02  unknown\n",
      "33  HLA-A30:01  unknown\n",
      "31  HLA-A30:02  unknown\n",
      "56  HLA-A31:01  unknown\n",
      "40  HLA-A32:01        5\n",
      "14  HLA-A33:01  unknown\n",
      "13  HLA-A33:03  unknown\n",
      "18  HLA-A66:01  unknown\n",
      "44  HLA-A68:01  unknown\n",
      "30  HLA-A68:02  unknown\n",
      "42  HLA-B07:02      -10\n",
      "4   HLA-B08:01  unknown\n",
      "29  HLA-B13:02  unknown\n",
      "15  HLA-B14:02  unknown\n",
      "51  HLA-B15:01        5\n",
      "3   HLA-B18:01        0\n",
      "32  HLA-B27:05       10\n",
      "35  HLA-B35:01       -5\n",
      "39  HLA-B35:02      -10\n",
      "37  HLA-B35:03      -10\n",
      "17  HLA-B37:01       -5\n",
      "26  HLA-B38:01  unknown\n",
      "12  HLA-B40:01       -5\n",
      "25  HLA-B40:02       -5\n",
      "5   HLA-B44:02       -5\n",
      "24  HLA-B44:03       -5\n",
      "0   HLA-B49:01       -5\n",
      "55  HLA-B51:01        5\n",
      "19  HLA-B55:01  unknown\n",
      "22  HLA-B57:01       10\n",
      "53  HLA-C01:02  unknown\n",
      "59  HLA-C02:02  unknown\n",
      "7   HLA-C03:02  unknown\n",
      "8   HLA-C03:03  unknown\n",
      "1   HLA-C03:04  unknown\n",
      "41  HLA-C04:01       -5\n",
      "47  HLA-C05:01  unknown\n",
      "21  HLA-C06:02  unknown\n",
      "48  HLA-C07:01        5\n",
      "45  HLA-C07:02       -5\n",
      "16  HLA-C07:04       -5\n",
      "57  HLA-C08:02  unknown\n",
      "20  HLA-C12:02  unknown\n",
      "52  HLA-C12:03  unknown\n",
      "34  HLA-C14:02  unknown\n",
      "27  HLA-C15:02  unknown\n",
      "54  HLA-C15:05  unknown\n",
      "2   HLA-C16:01  unknown\n",
      "58  HLA-C16:02  unknown\n",
      "46  HLA-C17:01  unknown\n",
      "Stored 'protection_score' (dict)\n"
     ]
    }
   ],
   "source": [
    "col1_HLAs = sorted(HLAranks.keys()) # generate list of most frequent alleles, sorted on alphabetical order \n",
    "\n",
    "protection_score = {} # initiate\n",
    "for HLA in col1_HLAs: \n",
    "    protection_score[HLA] = 0 # initiate item in dictionary for all alleles from top20\n",
    "\n",
    "for HLA in protection_score: # loop through newly generated dict\n",
    "    if HLA in literature_protective: # if entire HLA name is known in literature, i.e. genotype is known\n",
    "        protection_score[HLA] += 10\n",
    "    elif HLA[0:7] in literature_protective: # if only HLA serotype is known\n",
    "        protection_score[HLA] += 5\n",
    "    if HLA in literature_detrimental: # idem for detrimental\n",
    "        protection_score[HLA] -= 10\n",
    "    elif HLA[0:7] in literature_detrimental:\n",
    "        protection_score[HLA] -= 5\n",
    "    if HLA[0:7] in literature_detrimental and HLA[0:7] in literature_protective: # one allele has ambigious information in literature, is both protective and detrimental? \n",
    "        protection_score[HLA] = 0\n",
    "    if not HLA[0:7] in literature_detrimental and not HLA[0:7] in literature_protective: # if no info at all is known\n",
    "        protection_score[HLA] = 'unknown'\n",
    "print pd.DataFrame(protection_score.items()).sort_values(0)\n",
    "\n",
    "%store protection_score\n"
   ]
  },
  {
   "cell_type": "code",
   "execution_count": 6,
   "metadata": {},
   "outputs": [
    {
     "name": "stdout",
     "output_type": "stream",
     "text": [
      "HLA-B35:03,HLA-B35:02,HLA-B07:02,HLA-B35:01,HLA-A03:01,HLA-C04:01,HLA-B40:01,HLA-C07:04,HLA-B40:02,HLA-C07:02,HLA-B37:01,HLA-B49:01,HLA-A23:01,HLA-B44:02,HLA-B44:03,HLA-A24:02,HLA-B18:01,HLA-A25:01,HLA-A32:01,HLA-B51:01,HLA-A01:01,HLA-C07:01,HLA-B15:01,HLA-A11:01,HLA-B57:01,HLA-B27:05\n"
     ]
    }
   ],
   "source": [
    "HLAknown = list(protection_df.loc[protection_df[1]!= 'unknown'][0]) # exclude HLA alleles for which no information is available on protection\n",
    "%store HLAknown\n",
    "print \",\".join(HLAknown) # only use these alleles for netMHCpan, this prints these alleles in right format"
   ]
  },
  {
   "cell_type": "markdown",
   "metadata": {},
   "source": [
    "# Coevolution"
   ]
  },
  {
   "cell_type": "code",
   "execution_count": 2,
   "metadata": {},
   "outputs": [],
   "source": [
    "# For coevolution studies we will compare multiple populations, \n",
    "# and thus will need to generate lists of most frequent HLA alleles in those populations\n",
    "# Initially we will only focus on HLA-A and HLA-B \n",
    "def HLA_most_freq(population, topx): \n",
    "    HLAlist = []\n",
    "    for x in 'AB': # HLA frequency files from NMDP.org are organised per HLA allele; HLA-A, HLA-B\n",
    "        df = pd.read_excel(\"/Users/pcevaal/Desktop/TheoreticalBiol/%s.xlsx\" %x) # open corresponding NMDP.org file\n",
    "        df_sort = df.sort_values(['%s_rank' %population], ascending = True) # sort dataframe on frequencies of desired population\n",
    "        top = df_sort.head(topx) # select top20 most frequent alleles in this population\n",
    "        HLAs = top[x] # generate list of alleles (are in column named A/B/C, depending on which file is opened)\n",
    "        list = [HLA.encode() for HLA in HLAs] # transform from unicode\n",
    "        HLAlist += list # merge most frequent HLA-A + HLA-B alleles into one list\n",
    "    HLAlist.sort()\n",
    "    MHC = ''\n",
    "    for x in HLAlist:\n",
    "        MHC += 'HLA-' + x[0] + x[2:7] + ','\n",
    "        # writes in correct format, removes 'g' annotation at the end\n",
    "    MHClist = MHC.split(',')\n",
    "    del MHClist[-1] # remove final item in list, which is empty (after last ',')\n",
    "    return MHClist"
   ]
  },
  {
   "cell_type": "markdown",
   "metadata": {},
   "source": [
    "Globally, HIV1-B and HIV1-C are widely distributed but overrepresented in distinguished parts of the world. One of the hypotheses is that over time, HIV clades and human HLA alleles have co-evolved (a form of host-pathogen interaction / coevolution). We therefore analyse the two main HIV1 strains and their corresponding dominant populations:   \n",
    "HIV1-B is the dominant strain in Europe    \n",
    "HIV1-C is the dominant strain in Central/Southern Africa, and India (among others) (AFB and AINDI populations)   \n",
    "\n",
    "The NMDP.org database is based solely on the population of the USA, however does provide information on the ethnical background of the blood donors. Assuming the HLA allele frequencies will not have evolved so quickly after migration to the USA, we will use the most frequent HLA alleles in the American subpopulations as a representative of the global populations:   \n",
    "Europe: EURCAU population   \n",
    "India: AINDI population  \n",
    "Africa: AFB population"
   ]
  },
  {
   "cell_type": "code",
   "execution_count": 3,
   "metadata": {},
   "outputs": [],
   "source": [
    "# Generate lists of top4 most frequent HLA-A and HLA-B alleles for three study populations\n",
    "AFB_4 = HLA_most_freq('AFB', 4)\n",
    "EURCAU_4 = HLA_most_freq('EURCAU', 4)\n",
    "AINDI_4 = HLA_most_freq('AINDI', 4)"
   ]
  },
  {
   "cell_type": "code",
   "execution_count": 3,
   "metadata": {},
   "outputs": [
    {
     "name": "stdout",
     "output_type": "stream",
     "text": [
      "Stored 'HLAfreqs_for_coev' (dict)\n"
     ]
    }
   ],
   "source": [
    "# Organise top alleles into dictionary\n",
    "HLAfreqs_for_coev = {}\n",
    "HLAfreqs_for_coev['AFB'] = AFB_4\n",
    "HLAfreqs_for_coev['EURCAU'] = EURCAU_4\n",
    "HLAfreqs_for_coev['AINDI'] = AINDI_4\n",
    "%store HLAfreqs_for_coev"
   ]
  },
  {
   "cell_type": "code",
   "execution_count": 14,
   "metadata": {},
   "outputs": [
    {
     "name": "stdout",
     "output_type": "stream",
     "text": [
      "HLA-A33:03,HLA-B53:01,HLA-A23:01,HLA-B15:01,HLA-B40:06,HLA-A24:02,HLA-B52:01,HLA-B15:03,HLA-B44:02,HLA-A03:01,HLA-B35:01,HLA-A01:01,HLA-B08:01,HLA-A02:01,HLA-B51:01,HLA-B44:03,HLA-A11:01,HLA-B07:02,HLA-A30:01\n"
     ]
    }
   ],
   "source": [
    "newMHCpan = AFB_4 + EURCAU_4 + AINDI_4\n",
    "print \",\".join(list(set(newMHCpan))) # Write list in proper format for input in netMHCpan"
   ]
  },
  {
   "cell_type": "code",
   "execution_count": 26,
   "metadata": {},
   "outputs": [],
   "source": [
    "%store -r HIVproteome\n",
    "# select only HIV1 reference strains for coevolution studies, \n",
    "# as HIV1 and HIV2 differ too much to sensibly study coevolution across all clades\n",
    "for protein in HIVproteome:\n",
    "    ref = (\"Ref.A1\", \"Ref.B\", \"Ref.C\")\n",
    "    with open(\"/Users/pcevaal/Desktop/TheoreticalBiol/HIV12_%s.fasta\" %protein, 'r') as f:\n",
    "        HIV12 = f.read().split('>') # use HIV12 merged fasta files for each protein in HIVproteome\n",
    "    HIV1ABClist = [\">\" + strain for strain in HIV12 if strain.startswith(ref)] # select those fasta inputs from HIV1\n",
    "    HIV1ABC = \"\".join(HIV1ABClist) # join back into one list\n",
    "    with open(\"/Users/pcevaal/Desktop/TheoreticalBiol/HIV1ABC_%s.fasta\" %protein, 'w') as g:\n",
    "        g.write(HIV1ABC) # write new fasta file, to be used in netMHCpan "
   ]
  },
  {
   "cell_type": "markdown",
   "metadata": {},
   "source": [
    "Run netMHCpan again with HLAs from newMHCpan set, and only strain sequences from HIV1A1, HIV1B, HIV1C clades"
   ]
  },
  {
   "cell_type": "markdown",
   "metadata": {},
   "source": [
    "### Enriched alleles per population instead of purely most frequent"
   ]
  },
  {
   "cell_type": "markdown",
   "metadata": {},
   "source": [
    "Above study is based on most frequent alleles in each of the three study populations. However, these alleles are in fact quite overlapping, which could explain the lack of differences observed in the presentation of peptides from the two HIV1 clades.   \n",
    "Therefore, we will now assess presentation for those HLA alleles that are enriched in the study populations rather than merely frequently present. These enriched alleles would better represent alleles that might have co-evolved than alleles that are perhaps often present in all human being across the entire glove. "
   ]
  },
  {
   "cell_type": "code",
   "execution_count": 121,
   "metadata": {},
   "outputs": [],
   "source": [
    "# Make formula for each population to calculate the difference in allele frequency:\n",
    "# for each allele, the rank for one population is compared to that for the other two populations, \n",
    "# and those alleles with a great difference in rank (meaning a strong enrichment) are then selected\n",
    "def AFB_dif(y):\n",
    "    return (newdf.loc[y,'AINDI_rank']-newdf.loc[y,'AFB_rank'])+(newdf.loc[y,'EURCAU_rank']-newdf.loc[y,'AFB_rank'])\n",
    "def AINDI_dif(y):\n",
    "    return (newdf.loc[y,'AFB_rank']-newdf.loc[y,'AINDI_rank'])+(newdf.loc[y,'EURCAU_rank']-newdf.loc[y,'AINDI_rank'])\n",
    "def EURCAU_dif(y):\n",
    "    return (newdf.loc[y,'AINDI_rank']-newdf.loc[y,'EURCAU_rank'])+(newdf.loc[y,'AFB_rank']-newdf.loc[y,'EURCAU_rank'])\n",
    "def to_list(inputseries):\n",
    "    MHC = []\n",
    "    for x in inputseries:\n",
    "        MHC.append('HLA-' + x.encode()[0] + x.encode()[2:7])\n",
    "    return MHC   \n",
    "    \n",
    "HLAlist = []\n",
    "for x in 'AB': # HLA frequency files from NMDP.org are organised per HLA allele; HLA-A, HLA-B\n",
    "    df = pd.read_excel(\"/Users/pcevaal/Desktop/TheoreticalBiol/%s.xlsx\" %x) # open corresponding NMDP.org file\n",
    "    newdf = df.loc[:,[x,'AFB_rank','AINDI_rank','EURCAU_rank']] # select sensible columns from NMDP.org file\n",
    "    # some alleles are not at all present in a certain population, which yields a 'NaN' that would give an error in our code\n",
    "    # therefore, replace these with the highest rank possible for that population\n",
    "    row = newdf.loc[0] # select an example row in which the 'NaN' is present\n",
    "    nan = row[1] # this entry in the dataframe contains the 'NaN', manual entry does not work\n",
    "    if x == 'A':\n",
    "        newdf.loc[:,'AFB_rank'].replace(nan, 151, inplace=True) # replace all 'NaN's for HLA-A in AFB pop with rank 151 (max is 150)\n",
    "        newdf.loc[:,'AINDI_rank'].replace(nan, 168, inplace=True) # replace all 'NaN's for HLA-A in AINDI pop with rank 168 (max is 167)\n",
    "        newdf.loc[:,'EURCAU_rank'].replace(nan, 318, inplace=True) # replace all 'NaN's for HLA-A in EURCAU pop with rank 318 (max is 317)\n",
    "        for y in range(len(newdf)): # for each allele, via its y coordinate,   \n",
    "            if newdf.loc[y,'AFB_rank'] != 151: # if in that population the allele was present (!= max rank)\n",
    "                newdf.loc[y,'AFB_dif'] = AFB_dif(y) # calculate difference score\n",
    "            if newdf.loc[y,'AINDI_rank'] != 168:\n",
    "                newdf.loc[y,'AINDI_dif'] = AINDI_dif(y)\n",
    "            if newdf.loc[y,'EURCAU_rank'] != 318:\n",
    "                newdf.loc[y,'EURCAU_dif'] = EURCAU_dif(y)\n",
    "        # generate top10 of enriched alleles in each population by sorting (descending) on difference score\n",
    "        A_EURCAU = to_list(newdf.sort_values('EURCAU_dif',ascending=False).head(10).loc[:,'A'])\n",
    "        A_AFB = to_list(newdf.sort_values('AFB_dif',ascending=False).head(10).loc[:,'A'])\n",
    "        A_AINDI = to_list(newdf.sort_values('AINDI_dif',ascending=False).head(10).loc[:,'A'])\n",
    "    if x == 'B':\n",
    "        newdf.loc[:,'AFB_rank'].replace(nan, 198, inplace=True) # replace all 'NaN's for HLA-B in AFB pop with rank 198 (max is 197)\n",
    "        newdf.loc[:,'AINDI_rank'].replace(nan, 243, inplace=True) # replace all 'NaN's for HLA-B in AINDI pop with rank 243 (max is 242)\n",
    "        newdf.loc[:,'EURCAU_rank'].replace(nan, 531, inplace=True) # replace all 'NaN's for HLA-B in EURCAU pop with rank 531 (max is 530)\n",
    "        for y in range(len(newdf)): # see above for x == 'A'\n",
    "            if newdf.loc[y,'AFB_rank'] != 198:\n",
    "                newdf.loc[y,'AFB_dif'] = AFB_dif(y)\n",
    "            if newdf.loc[y,'AINDI_rank'] != 243:\n",
    "                newdf.loc[y,'AINDI_dif'] = AINDI_dif(y)\n",
    "            if newdf.loc[y,'EURCAU_rank'] != 531:\n",
    "                newdf.loc[y,'EURCAU_dif'] = EURCAU_dif(y)\n",
    "        B_EURCAU = to_list(newdf.sort_values('EURCAU_dif',ascending=False).head(10).loc[:,'B'])\n",
    "        B_AFB = to_list(newdf.sort_values('AFB_dif',ascending=False).head(10).loc[:,'B'])\n",
    "        B_AINDI = to_list(newdf.sort_values('AINDI_dif',ascending=False).head(10).loc[:,'B'])\n"
   ]
  },
  {
   "cell_type": "code",
   "execution_count": 127,
   "metadata": {},
   "outputs": [
    {
     "name": "stdout",
     "output_type": "stream",
     "text": [
      "Stored 'enriched_alleles_perpop' (dict)\n",
      "HLA-A01:12,HLA-A02:38,HLA-B44:04,HLA-A23:06,HLA-B44:07,HLA-A24:24,HLA-A02:10,HLA-B07:18,HLA-A02:13,HLA-A11:03,HLA-A02:16,HLA-B35:10,HLA-A02:19,HLA-A25:02,HLA-B14:05,HLA-A02:30,HLA-A11:44,HLA-B15:24,HLA-A33:05,HLA-A24:32,HLA-A32:04,HLA-B40:50,HLA-A68:10,HLA-B15:75,HLA-A24:13,HLA-A74:11,HLA-B15:52,HLA-B15:54,HLA-A31:12,HLA-B48:04,HLA-B56:22,HLA-B82:02,HLA-A11:19,HLA-B08:09,HLA-A30:25,HLA-B44:15,HLA-B13:03,HLA-A01:09,HLA-B44:09,HLA-B07:04,HLA-B35:27,HLA-A02:27,HLA-A23:15,HLA-A74:09,HLA-A32:07,HLA-B27:10,HLA-B27:14,HLA-B35:41,HLA-A24:04,HLA-B40:26,HLA-A31:16,HLA-B15:05,HLA-B40:23,HLA-A68:27,HLA-B56:04,HLA-B15:67,HLA-B15:47,HLA-B15:45,HLA-A26:30,HLA-B53:09\n"
     ]
    }
   ],
   "source": [
    "# join lists of enriched HLA-A and -B alleles for each population\n",
    "AFB = A_AFB+B_AFB\n",
    "AINDI = A_AINDI+ B_AINDI\n",
    "EURCAU = A_EURCAU+ B_EURCAU\n",
    "\n",
    "enriched_alleles_perpop = {} # merge these lists in a dictionary\n",
    "enriched_alleles_perpop['AFB'] = AFB\n",
    "enriched_alleles_perpop['AINDI'] = AINDI\n",
    "enriched_alleles_perpop['EURCAU'] = EURCAU\n",
    "%store enriched_alleles_perpop\n",
    "\n",
    "newMHCpan_enriched = list(set(AFB+AINDI+EURCAU)) # generate list of all unique HLA alleles that need to be run in netMHCpan\n",
    "enriched_set =\",\".join(list(set(newMHCpan_enriched))) # write in appropriate format\n",
    "print enriched_set"
   ]
  },
  {
   "cell_type": "code",
   "execution_count": 107,
   "metadata": {},
   "outputs": [],
   "source": [
    "%store -r HIVproteome\n",
    "for protein in HIVproteome: # in this substudy, only HIV1-B and 1-C are compared, thus exclude other refstrains from .fasta files\n",
    "    ref = (\"Ref.B\", \"Ref.C\")\n",
    "    with open(\"/Users/pcevaal/Desktop/TheoreticalBiol/HIV12_%s.fasta\" %protein, 'r') as f:\n",
    "        HIV12 = f.read().split('>')\n",
    "    HIV1BClist = [\">\" + strain for strain in HIV12 if strain.startswith(ref)] # delete strain if not clade B or C\n",
    "    HIV1BC = \"\".join(HIV1BClist)\n",
    "    with open(\"/Users/pcevaal/Desktop/TheoreticalBiol/HIV1BC_%s.fasta\" %protein, 'w') as g:\n",
    "        g.write(HIV1BC) # write to new file, to be used as netMHCpan input"
   ]
  }
 ],
 "metadata": {
  "kernelspec": {
   "display_name": "Python 2",
   "language": "python",
   "name": "python2"
  },
  "language_info": {
   "codemirror_mode": {
    "name": "ipython",
    "version": 2
   },
   "file_extension": ".py",
   "mimetype": "text/x-python",
   "name": "python",
   "nbconvert_exporter": "python",
   "pygments_lexer": "ipython2",
   "version": "2.7.14"
  }
 },
 "nbformat": 4,
 "nbformat_minor": 2
}
